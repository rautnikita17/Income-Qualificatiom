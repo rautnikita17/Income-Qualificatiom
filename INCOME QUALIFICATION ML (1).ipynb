{
 "cells": [
  {
   "cell_type": "code",
   "execution_count": 2,
   "id": "73abb7e1",
   "metadata": {},
   "outputs": [],
   "source": [
    "import pandas as pd\n",
    "import numpy as np\n",
    "import matplotlib.pyplot as plt\n",
    "import seaborn as sns\n",
    "%matplotlib inline\n",
    "import warnings\n",
    "warnings.filterwarnings('ignore')"
   ]
  },
  {
   "cell_type": "code",
   "execution_count": 58,
   "id": "f0de7b6c",
   "metadata": {},
   "outputs": [],
   "source": [
    "test = pd.read_csv(r\"C:\\Machine-Learning--Projects-master (3)\\Machine-Learning--Projects-master\\Projects\\Projects for Submission\\Project 2 - Income Qualification\\Dataset for the project\\Dataset for the project\\test.csv\", index_col = 0)\n",
    "train = pd.read_csv(r\"C:\\Machine-Learning--Projects-master (3)\\Machine-Learning--Projects-master\\Projects\\Projects for Submission\\Project 2 - Income Qualification\\Dataset for the project\\Dataset for the project\\train.csv\", index_col = 0)"
   ]
  },
  {
   "cell_type": "code",
   "execution_count": 6,
   "id": "fca8717b",
   "metadata": {},
   "outputs": [],
   "source": [
    "#Let us explore our dataset before moving further"
   ]
  },
  {
   "cell_type": "code",
   "execution_count": 59,
   "id": "059e5790",
   "metadata": {},
   "outputs": [
    {
     "data": {
      "text/plain": [
       "(23856, 141)"
      ]
     },
     "execution_count": 59,
     "metadata": {},
     "output_type": "execute_result"
    }
   ],
   "source": [
    "test.shape"
   ]
  },
  {
   "cell_type": "code",
   "execution_count": 60,
   "id": "7f46da10",
   "metadata": {},
   "outputs": [
    {
     "data": {
      "text/plain": [
       "(9557, 142)"
      ]
     },
     "execution_count": 60,
     "metadata": {},
     "output_type": "execute_result"
    }
   ],
   "source": [
    "train.shape"
   ]
  },
  {
   "cell_type": "code",
   "execution_count": 61,
   "id": "78df69b8",
   "metadata": {},
   "outputs": [
    {
     "data": {
      "text/html": [
       "<div>\n",
       "<style scoped>\n",
       "    .dataframe tbody tr th:only-of-type {\n",
       "        vertical-align: middle;\n",
       "    }\n",
       "\n",
       "    .dataframe tbody tr th {\n",
       "        vertical-align: top;\n",
       "    }\n",
       "\n",
       "    .dataframe thead th {\n",
       "        text-align: right;\n",
       "    }\n",
       "</style>\n",
       "<table border=\"1\" class=\"dataframe\">\n",
       "  <thead>\n",
       "    <tr style=\"text-align: right;\">\n",
       "      <th></th>\n",
       "      <th>v2a1</th>\n",
       "      <th>hacdor</th>\n",
       "      <th>rooms</th>\n",
       "      <th>hacapo</th>\n",
       "      <th>v14a</th>\n",
       "      <th>refrig</th>\n",
       "      <th>v18q</th>\n",
       "      <th>v18q1</th>\n",
       "      <th>r4h1</th>\n",
       "      <th>r4h2</th>\n",
       "      <th>...</th>\n",
       "      <th>SQBescolari</th>\n",
       "      <th>SQBage</th>\n",
       "      <th>SQBhogar_total</th>\n",
       "      <th>SQBedjefe</th>\n",
       "      <th>SQBhogar_nin</th>\n",
       "      <th>SQBovercrowding</th>\n",
       "      <th>SQBdependency</th>\n",
       "      <th>SQBmeaned</th>\n",
       "      <th>agesq</th>\n",
       "      <th>Target</th>\n",
       "    </tr>\n",
       "    <tr>\n",
       "      <th>Id</th>\n",
       "      <th></th>\n",
       "      <th></th>\n",
       "      <th></th>\n",
       "      <th></th>\n",
       "      <th></th>\n",
       "      <th></th>\n",
       "      <th></th>\n",
       "      <th></th>\n",
       "      <th></th>\n",
       "      <th></th>\n",
       "      <th></th>\n",
       "      <th></th>\n",
       "      <th></th>\n",
       "      <th></th>\n",
       "      <th></th>\n",
       "      <th></th>\n",
       "      <th></th>\n",
       "      <th></th>\n",
       "      <th></th>\n",
       "      <th></th>\n",
       "      <th></th>\n",
       "    </tr>\n",
       "  </thead>\n",
       "  <tbody>\n",
       "    <tr>\n",
       "      <th>ID_279628684</th>\n",
       "      <td>190000.0</td>\n",
       "      <td>0</td>\n",
       "      <td>3</td>\n",
       "      <td>0</td>\n",
       "      <td>1</td>\n",
       "      <td>1</td>\n",
       "      <td>0</td>\n",
       "      <td>NaN</td>\n",
       "      <td>0</td>\n",
       "      <td>1</td>\n",
       "      <td>...</td>\n",
       "      <td>100</td>\n",
       "      <td>1849</td>\n",
       "      <td>1</td>\n",
       "      <td>100</td>\n",
       "      <td>0</td>\n",
       "      <td>1.000000</td>\n",
       "      <td>0.0</td>\n",
       "      <td>100.0</td>\n",
       "      <td>1849</td>\n",
       "      <td>4</td>\n",
       "    </tr>\n",
       "    <tr>\n",
       "      <th>ID_f29eb3ddd</th>\n",
       "      <td>135000.0</td>\n",
       "      <td>0</td>\n",
       "      <td>4</td>\n",
       "      <td>0</td>\n",
       "      <td>1</td>\n",
       "      <td>1</td>\n",
       "      <td>1</td>\n",
       "      <td>1.0</td>\n",
       "      <td>0</td>\n",
       "      <td>1</td>\n",
       "      <td>...</td>\n",
       "      <td>144</td>\n",
       "      <td>4489</td>\n",
       "      <td>1</td>\n",
       "      <td>144</td>\n",
       "      <td>0</td>\n",
       "      <td>1.000000</td>\n",
       "      <td>64.0</td>\n",
       "      <td>144.0</td>\n",
       "      <td>4489</td>\n",
       "      <td>4</td>\n",
       "    </tr>\n",
       "    <tr>\n",
       "      <th>ID_68de51c94</th>\n",
       "      <td>NaN</td>\n",
       "      <td>0</td>\n",
       "      <td>8</td>\n",
       "      <td>0</td>\n",
       "      <td>1</td>\n",
       "      <td>1</td>\n",
       "      <td>0</td>\n",
       "      <td>NaN</td>\n",
       "      <td>0</td>\n",
       "      <td>0</td>\n",
       "      <td>...</td>\n",
       "      <td>121</td>\n",
       "      <td>8464</td>\n",
       "      <td>1</td>\n",
       "      <td>0</td>\n",
       "      <td>0</td>\n",
       "      <td>0.250000</td>\n",
       "      <td>64.0</td>\n",
       "      <td>121.0</td>\n",
       "      <td>8464</td>\n",
       "      <td>4</td>\n",
       "    </tr>\n",
       "    <tr>\n",
       "      <th>ID_d671db89c</th>\n",
       "      <td>180000.0</td>\n",
       "      <td>0</td>\n",
       "      <td>5</td>\n",
       "      <td>0</td>\n",
       "      <td>1</td>\n",
       "      <td>1</td>\n",
       "      <td>1</td>\n",
       "      <td>1.0</td>\n",
       "      <td>0</td>\n",
       "      <td>2</td>\n",
       "      <td>...</td>\n",
       "      <td>81</td>\n",
       "      <td>289</td>\n",
       "      <td>16</td>\n",
       "      <td>121</td>\n",
       "      <td>4</td>\n",
       "      <td>1.777778</td>\n",
       "      <td>1.0</td>\n",
       "      <td>121.0</td>\n",
       "      <td>289</td>\n",
       "      <td>4</td>\n",
       "    </tr>\n",
       "    <tr>\n",
       "      <th>ID_d56d6f5f5</th>\n",
       "      <td>180000.0</td>\n",
       "      <td>0</td>\n",
       "      <td>5</td>\n",
       "      <td>0</td>\n",
       "      <td>1</td>\n",
       "      <td>1</td>\n",
       "      <td>1</td>\n",
       "      <td>1.0</td>\n",
       "      <td>0</td>\n",
       "      <td>2</td>\n",
       "      <td>...</td>\n",
       "      <td>121</td>\n",
       "      <td>1369</td>\n",
       "      <td>16</td>\n",
       "      <td>121</td>\n",
       "      <td>4</td>\n",
       "      <td>1.777778</td>\n",
       "      <td>1.0</td>\n",
       "      <td>121.0</td>\n",
       "      <td>1369</td>\n",
       "      <td>4</td>\n",
       "    </tr>\n",
       "  </tbody>\n",
       "</table>\n",
       "<p>5 rows × 142 columns</p>\n",
       "</div>"
      ],
      "text/plain": [
       "                  v2a1  hacdor  rooms  hacapo  v14a  refrig  v18q  v18q1  \\\n",
       "Id                                                                         \n",
       "ID_279628684  190000.0       0      3       0     1       1     0    NaN   \n",
       "ID_f29eb3ddd  135000.0       0      4       0     1       1     1    1.0   \n",
       "ID_68de51c94       NaN       0      8       0     1       1     0    NaN   \n",
       "ID_d671db89c  180000.0       0      5       0     1       1     1    1.0   \n",
       "ID_d56d6f5f5  180000.0       0      5       0     1       1     1    1.0   \n",
       "\n",
       "              r4h1  r4h2  ...  SQBescolari  SQBage  SQBhogar_total  SQBedjefe  \\\n",
       "Id                        ...                                                   \n",
       "ID_279628684     0     1  ...          100    1849               1        100   \n",
       "ID_f29eb3ddd     0     1  ...          144    4489               1        144   \n",
       "ID_68de51c94     0     0  ...          121    8464               1          0   \n",
       "ID_d671db89c     0     2  ...           81     289              16        121   \n",
       "ID_d56d6f5f5     0     2  ...          121    1369              16        121   \n",
       "\n",
       "              SQBhogar_nin  SQBovercrowding  SQBdependency  SQBmeaned  agesq  \\\n",
       "Id                                                                             \n",
       "ID_279628684             0         1.000000            0.0      100.0   1849   \n",
       "ID_f29eb3ddd             0         1.000000           64.0      144.0   4489   \n",
       "ID_68de51c94             0         0.250000           64.0      121.0   8464   \n",
       "ID_d671db89c             4         1.777778            1.0      121.0    289   \n",
       "ID_d56d6f5f5             4         1.777778            1.0      121.0   1369   \n",
       "\n",
       "              Target  \n",
       "Id                    \n",
       "ID_279628684       4  \n",
       "ID_f29eb3ddd       4  \n",
       "ID_68de51c94       4  \n",
       "ID_d671db89c       4  \n",
       "ID_d56d6f5f5       4  \n",
       "\n",
       "[5 rows x 142 columns]"
      ]
     },
     "execution_count": 61,
     "metadata": {},
     "output_type": "execute_result"
    }
   ],
   "source": [
    "train.head()"
   ]
  },
  {
   "cell_type": "code",
   "execution_count": 62,
   "id": "38b420ba",
   "metadata": {},
   "outputs": [
    {
     "data": {
      "text/html": [
       "<div>\n",
       "<style scoped>\n",
       "    .dataframe tbody tr th:only-of-type {\n",
       "        vertical-align: middle;\n",
       "    }\n",
       "\n",
       "    .dataframe tbody tr th {\n",
       "        vertical-align: top;\n",
       "    }\n",
       "\n",
       "    .dataframe thead th {\n",
       "        text-align: right;\n",
       "    }\n",
       "</style>\n",
       "<table border=\"1\" class=\"dataframe\">\n",
       "  <thead>\n",
       "    <tr style=\"text-align: right;\">\n",
       "      <th></th>\n",
       "      <th>v2a1</th>\n",
       "      <th>hacdor</th>\n",
       "      <th>rooms</th>\n",
       "      <th>hacapo</th>\n",
       "      <th>v14a</th>\n",
       "      <th>refrig</th>\n",
       "      <th>v18q</th>\n",
       "      <th>v18q1</th>\n",
       "      <th>r4h1</th>\n",
       "      <th>r4h2</th>\n",
       "      <th>...</th>\n",
       "      <th>age</th>\n",
       "      <th>SQBescolari</th>\n",
       "      <th>SQBage</th>\n",
       "      <th>SQBhogar_total</th>\n",
       "      <th>SQBedjefe</th>\n",
       "      <th>SQBhogar_nin</th>\n",
       "      <th>SQBovercrowding</th>\n",
       "      <th>SQBdependency</th>\n",
       "      <th>SQBmeaned</th>\n",
       "      <th>agesq</th>\n",
       "    </tr>\n",
       "    <tr>\n",
       "      <th>Id</th>\n",
       "      <th></th>\n",
       "      <th></th>\n",
       "      <th></th>\n",
       "      <th></th>\n",
       "      <th></th>\n",
       "      <th></th>\n",
       "      <th></th>\n",
       "      <th></th>\n",
       "      <th></th>\n",
       "      <th></th>\n",
       "      <th></th>\n",
       "      <th></th>\n",
       "      <th></th>\n",
       "      <th></th>\n",
       "      <th></th>\n",
       "      <th></th>\n",
       "      <th></th>\n",
       "      <th></th>\n",
       "      <th></th>\n",
       "      <th></th>\n",
       "      <th></th>\n",
       "    </tr>\n",
       "  </thead>\n",
       "  <tbody>\n",
       "    <tr>\n",
       "      <th>ID_2f6873615</th>\n",
       "      <td>NaN</td>\n",
       "      <td>0</td>\n",
       "      <td>5</td>\n",
       "      <td>0</td>\n",
       "      <td>1</td>\n",
       "      <td>1</td>\n",
       "      <td>0</td>\n",
       "      <td>NaN</td>\n",
       "      <td>1</td>\n",
       "      <td>1</td>\n",
       "      <td>...</td>\n",
       "      <td>4</td>\n",
       "      <td>0</td>\n",
       "      <td>16</td>\n",
       "      <td>9</td>\n",
       "      <td>0</td>\n",
       "      <td>1</td>\n",
       "      <td>2.25</td>\n",
       "      <td>0.25</td>\n",
       "      <td>272.25</td>\n",
       "      <td>16</td>\n",
       "    </tr>\n",
       "    <tr>\n",
       "      <th>ID_1c78846d2</th>\n",
       "      <td>NaN</td>\n",
       "      <td>0</td>\n",
       "      <td>5</td>\n",
       "      <td>0</td>\n",
       "      <td>1</td>\n",
       "      <td>1</td>\n",
       "      <td>0</td>\n",
       "      <td>NaN</td>\n",
       "      <td>1</td>\n",
       "      <td>1</td>\n",
       "      <td>...</td>\n",
       "      <td>41</td>\n",
       "      <td>256</td>\n",
       "      <td>1681</td>\n",
       "      <td>9</td>\n",
       "      <td>0</td>\n",
       "      <td>1</td>\n",
       "      <td>2.25</td>\n",
       "      <td>0.25</td>\n",
       "      <td>272.25</td>\n",
       "      <td>1681</td>\n",
       "    </tr>\n",
       "    <tr>\n",
       "      <th>ID_e5442cf6a</th>\n",
       "      <td>NaN</td>\n",
       "      <td>0</td>\n",
       "      <td>5</td>\n",
       "      <td>0</td>\n",
       "      <td>1</td>\n",
       "      <td>1</td>\n",
       "      <td>0</td>\n",
       "      <td>NaN</td>\n",
       "      <td>1</td>\n",
       "      <td>1</td>\n",
       "      <td>...</td>\n",
       "      <td>41</td>\n",
       "      <td>289</td>\n",
       "      <td>1681</td>\n",
       "      <td>9</td>\n",
       "      <td>0</td>\n",
       "      <td>1</td>\n",
       "      <td>2.25</td>\n",
       "      <td>0.25</td>\n",
       "      <td>272.25</td>\n",
       "      <td>1681</td>\n",
       "    </tr>\n",
       "    <tr>\n",
       "      <th>ID_a8db26a79</th>\n",
       "      <td>NaN</td>\n",
       "      <td>0</td>\n",
       "      <td>14</td>\n",
       "      <td>0</td>\n",
       "      <td>1</td>\n",
       "      <td>1</td>\n",
       "      <td>1</td>\n",
       "      <td>1.0</td>\n",
       "      <td>0</td>\n",
       "      <td>1</td>\n",
       "      <td>...</td>\n",
       "      <td>59</td>\n",
       "      <td>256</td>\n",
       "      <td>3481</td>\n",
       "      <td>1</td>\n",
       "      <td>256</td>\n",
       "      <td>0</td>\n",
       "      <td>1.00</td>\n",
       "      <td>0.00</td>\n",
       "      <td>256.00</td>\n",
       "      <td>3481</td>\n",
       "    </tr>\n",
       "    <tr>\n",
       "      <th>ID_a62966799</th>\n",
       "      <td>175000.0</td>\n",
       "      <td>0</td>\n",
       "      <td>4</td>\n",
       "      <td>0</td>\n",
       "      <td>1</td>\n",
       "      <td>1</td>\n",
       "      <td>1</td>\n",
       "      <td>1.0</td>\n",
       "      <td>0</td>\n",
       "      <td>0</td>\n",
       "      <td>...</td>\n",
       "      <td>18</td>\n",
       "      <td>121</td>\n",
       "      <td>324</td>\n",
       "      <td>1</td>\n",
       "      <td>0</td>\n",
       "      <td>1</td>\n",
       "      <td>0.25</td>\n",
       "      <td>64.00</td>\n",
       "      <td>NaN</td>\n",
       "      <td>324</td>\n",
       "    </tr>\n",
       "  </tbody>\n",
       "</table>\n",
       "<p>5 rows × 141 columns</p>\n",
       "</div>"
      ],
      "text/plain": [
       "                  v2a1  hacdor  rooms  hacapo  v14a  refrig  v18q  v18q1  \\\n",
       "Id                                                                         \n",
       "ID_2f6873615       NaN       0      5       0     1       1     0    NaN   \n",
       "ID_1c78846d2       NaN       0      5       0     1       1     0    NaN   \n",
       "ID_e5442cf6a       NaN       0      5       0     1       1     0    NaN   \n",
       "ID_a8db26a79       NaN       0     14       0     1       1     1    1.0   \n",
       "ID_a62966799  175000.0       0      4       0     1       1     1    1.0   \n",
       "\n",
       "              r4h1  r4h2  ...  age  SQBescolari  SQBage  SQBhogar_total  \\\n",
       "Id                        ...                                             \n",
       "ID_2f6873615     1     1  ...    4            0      16               9   \n",
       "ID_1c78846d2     1     1  ...   41          256    1681               9   \n",
       "ID_e5442cf6a     1     1  ...   41          289    1681               9   \n",
       "ID_a8db26a79     0     1  ...   59          256    3481               1   \n",
       "ID_a62966799     0     0  ...   18          121     324               1   \n",
       "\n",
       "              SQBedjefe  SQBhogar_nin  SQBovercrowding  SQBdependency  \\\n",
       "Id                                                                      \n",
       "ID_2f6873615          0             1             2.25           0.25   \n",
       "ID_1c78846d2          0             1             2.25           0.25   \n",
       "ID_e5442cf6a          0             1             2.25           0.25   \n",
       "ID_a8db26a79        256             0             1.00           0.00   \n",
       "ID_a62966799          0             1             0.25          64.00   \n",
       "\n",
       "              SQBmeaned  agesq  \n",
       "Id                              \n",
       "ID_2f6873615     272.25     16  \n",
       "ID_1c78846d2     272.25   1681  \n",
       "ID_e5442cf6a     272.25   1681  \n",
       "ID_a8db26a79     256.00   3481  \n",
       "ID_a62966799        NaN    324  \n",
       "\n",
       "[5 rows x 141 columns]"
      ]
     },
     "execution_count": 62,
     "metadata": {},
     "output_type": "execute_result"
    }
   ],
   "source": [
    "test.head()"
   ]
  },
  {
   "cell_type": "code",
   "execution_count": 65,
   "id": "e513d5c5",
   "metadata": {},
   "outputs": [
    {
     "data": {
      "text/html": [
       "<div>\n",
       "<style scoped>\n",
       "    .dataframe tbody tr th:only-of-type {\n",
       "        vertical-align: middle;\n",
       "    }\n",
       "\n",
       "    .dataframe tbody tr th {\n",
       "        vertical-align: top;\n",
       "    }\n",
       "\n",
       "    .dataframe thead th {\n",
       "        text-align: right;\n",
       "    }\n",
       "</style>\n",
       "<table border=\"1\" class=\"dataframe\">\n",
       "  <thead>\n",
       "    <tr style=\"text-align: right;\">\n",
       "      <th></th>\n",
       "      <th>idhogar</th>\n",
       "      <th>dependency</th>\n",
       "      <th>edjefe</th>\n",
       "      <th>edjefa</th>\n",
       "    </tr>\n",
       "  </thead>\n",
       "  <tbody>\n",
       "    <tr>\n",
       "      <th>count</th>\n",
       "      <td>9557</td>\n",
       "      <td>9557</td>\n",
       "      <td>9557</td>\n",
       "      <td>9557</td>\n",
       "    </tr>\n",
       "    <tr>\n",
       "      <th>unique</th>\n",
       "      <td>2988</td>\n",
       "      <td>31</td>\n",
       "      <td>22</td>\n",
       "      <td>22</td>\n",
       "    </tr>\n",
       "    <tr>\n",
       "      <th>top</th>\n",
       "      <td>fd8a6d014</td>\n",
       "      <td>yes</td>\n",
       "      <td>no</td>\n",
       "      <td>no</td>\n",
       "    </tr>\n",
       "    <tr>\n",
       "      <th>freq</th>\n",
       "      <td>13</td>\n",
       "      <td>2192</td>\n",
       "      <td>3762</td>\n",
       "      <td>6230</td>\n",
       "    </tr>\n",
       "  </tbody>\n",
       "</table>\n",
       "</div>"
      ],
      "text/plain": [
       "          idhogar dependency edjefe edjefa\n",
       "count        9557       9557   9557   9557\n",
       "unique       2988         31     22     22\n",
       "top     fd8a6d014        yes     no     no\n",
       "freq           13       2192   3762   6230"
      ]
     },
     "execution_count": 65,
     "metadata": {},
     "output_type": "execute_result"
    }
   ],
   "source": [
    "# Check the categorical columns in Train \n",
    "train.describe(include = 'object') "
   ]
  },
  {
   "cell_type": "code",
   "execution_count": 67,
   "id": "3bd70910",
   "metadata": {},
   "outputs": [],
   "source": [
    "# Check the categorical columns in Test"
   ]
  },
  {
   "cell_type": "code",
   "execution_count": 68,
   "id": "363d3be3",
   "metadata": {},
   "outputs": [
    {
     "data": {
      "text/html": [
       "<div>\n",
       "<style scoped>\n",
       "    .dataframe tbody tr th:only-of-type {\n",
       "        vertical-align: middle;\n",
       "    }\n",
       "\n",
       "    .dataframe tbody tr th {\n",
       "        vertical-align: top;\n",
       "    }\n",
       "\n",
       "    .dataframe thead th {\n",
       "        text-align: right;\n",
       "    }\n",
       "</style>\n",
       "<table border=\"1\" class=\"dataframe\">\n",
       "  <thead>\n",
       "    <tr style=\"text-align: right;\">\n",
       "      <th></th>\n",
       "      <th>idhogar</th>\n",
       "      <th>dependency</th>\n",
       "      <th>edjefe</th>\n",
       "      <th>edjefa</th>\n",
       "    </tr>\n",
       "  </thead>\n",
       "  <tbody>\n",
       "    <tr>\n",
       "      <th>count</th>\n",
       "      <td>23856</td>\n",
       "      <td>23856</td>\n",
       "      <td>23856</td>\n",
       "      <td>23856</td>\n",
       "    </tr>\n",
       "    <tr>\n",
       "      <th>unique</th>\n",
       "      <td>7352</td>\n",
       "      <td>35</td>\n",
       "      <td>22</td>\n",
       "      <td>22</td>\n",
       "    </tr>\n",
       "    <tr>\n",
       "      <th>top</th>\n",
       "      <td>8e9159699</td>\n",
       "      <td>yes</td>\n",
       "      <td>no</td>\n",
       "      <td>no</td>\n",
       "    </tr>\n",
       "    <tr>\n",
       "      <th>freq</th>\n",
       "      <td>13</td>\n",
       "      <td>5388</td>\n",
       "      <td>9056</td>\n",
       "      <td>15845</td>\n",
       "    </tr>\n",
       "  </tbody>\n",
       "</table>\n",
       "</div>"
      ],
      "text/plain": [
       "          idhogar dependency edjefe edjefa\n",
       "count       23856      23856  23856  23856\n",
       "unique       7352         35     22     22\n",
       "top     8e9159699        yes     no     no\n",
       "freq           13       5388   9056  15845"
      ]
     },
     "execution_count": 68,
     "metadata": {},
     "output_type": "execute_result"
    }
   ],
   "source": [
    "test.describe(include = 'object')"
   ]
  },
  {
   "cell_type": "code",
   "execution_count": 70,
   "id": "4214d701",
   "metadata": {},
   "outputs": [],
   "source": [
    "# We need to do the preprocessing for these 4 categorical columns first."
   ]
  },
  {
   "cell_type": "code",
   "execution_count": 71,
   "id": "e1ae6ad0",
   "metadata": {},
   "outputs": [
    {
     "data": {
      "text/plain": [
       "array(['21eb7fcc1', '0e5d7a658', '2c7317ea8', ..., 'a8eeafc29',\n",
       "       '212db6f6c', 'd6c086aa3'], dtype=object)"
      ]
     },
     "execution_count": 71,
     "metadata": {},
     "output_type": "execute_result"
    }
   ],
   "source": [
    "train.idhogar.unique() #(identify as house id)"
   ]
  },
  {
   "cell_type": "code",
   "execution_count": 77,
   "id": "88792d84",
   "metadata": {},
   "outputs": [
    {
     "data": {
      "text/plain": [
       "yes          2192\n",
       "no           1747\n",
       ".5           1497\n",
       "2             730\n",
       "1.5           713\n",
       ".33333334     598\n",
       ".66666669     487\n",
       "8             378\n",
       ".25           260\n",
       "3             236\n",
       "Name: dependency, dtype: int64"
      ]
     },
     "execution_count": 77,
     "metadata": {},
     "output_type": "execute_result"
    },
    {
     "data": {
      "image/png": "[encoded data removed]",
      "text/plain": [
       "<Figure size 432x288 with 1 Axes>"
      ]
     },
     "metadata": {
      "needs_background": "light"
     },
     "output_type": "display_data"
    }
   ],
   "source": [
    "#Preprocessing for dependency columns\n",
    "data = train.dependency\n",
    "plt.hist(data[data.isin(['no', 'yes'])== False ].astype('float'), bins = 50)\n",
    "plt.show\n",
    "\n",
    "data.value_counts().head(10)"
   ]
  },
  {
   "cell_type": "code",
   "execution_count": 78,
   "id": "d61f1cfe",
   "metadata": {},
   "outputs": [],
   "source": [
    "# Decision: no=0, yes=.5, then convert all to float.\n",
    "train.dependency = train.dependency.replace('no',0).replace('yes',0.5).astype('float')\n",
    "test.dependency = test.dependency.replace('no',0).replace('yes',0.5).astype('float')"
   ]
  },
  {
   "cell_type": "code",
   "execution_count": 80,
   "id": "02b33835",
   "metadata": {},
   "outputs": [
    {
     "data": {
      "text/plain": [
       "0.500000    3689\n",
       "0.000000    1747\n",
       "2.000000     730\n",
       "1.500000     713\n",
       "0.333333     598\n",
       "0.666667     487\n",
       "8.000000     378\n",
       "0.250000     260\n",
       "3.000000     236\n",
       "4.000000     100\n",
       "Name: dependency, dtype: int64"
      ]
     },
     "execution_count": 80,
     "metadata": {},
     "output_type": "execute_result"
    },
    {
     "data": {
      "image/png": "[encoded data removed]",
      "text/plain": [
       "<Figure size 432x288 with 1 Axes>"
      ]
     },
     "metadata": {
      "needs_background": "light"
     },
     "output_type": "display_data"
    }
   ],
   "source": [
    "data = train.dependency\n",
    "plt.hist(data[data.isin(['no', 'yes'])== False ].astype('float'), bins = 50)\n",
    "plt.show\n",
    "\n",
    "data.value_counts().head(10)"
   ]
  },
  {
   "cell_type": "code",
   "execution_count": 81,
   "id": "69e53aa1",
   "metadata": {},
   "outputs": [
    {
     "data": {
      "text/plain": [
       "no    3762\n",
       "6     1845\n",
       "11     751\n",
       "9      486\n",
       "3      307\n",
       "15     285\n",
       "8      257\n",
       "7      234\n",
       "5      222\n",
       "14     208\n",
       "Name: edjefe, dtype: int64"
      ]
     },
     "execution_count": 81,
     "metadata": {},
     "output_type": "execute_result"
    },
    {
     "data": {
      "image/png": "[encoded data removed]",
      "text/plain": [
       "<Figure size 432x288 with 1 Axes>"
      ]
     },
     "metadata": {
      "needs_background": "light"
     },
     "output_type": "display_data"
    }
   ],
   "source": [
    "# Preprocessing for edjefe[male years of education] columns:\n",
    "data = train.edjefe\n",
    "plt.hist(data[data.isin(['no', 'yes'])== False ].astype('float'), bins = 50)\n",
    "plt.show\n",
    "\n",
    "data.value_counts().head(10)"
   ]
  },
  {
   "cell_type": "code",
   "execution_count": 82,
   "id": "068139f5",
   "metadata": {},
   "outputs": [],
   "source": [
    "# Decision: no=0, yes=median, then convert all to float.\n",
    "med = np.median(train.edjefe[train.edjefe.isin(['no','yes'])==False].astype('float')) #find median values by excluding yes,no.\n",
    "train.edjefe = train.edjefe.replace('no',0).replace('yes',med).astype('float')\n",
    "test.edjefe = test.edjefe.replace('no',0).replace('yes',med).astype('float')"
   ]
  },
  {
   "cell_type": "code",
   "execution_count": 83,
   "id": "b4b1dc6b",
   "metadata": {},
   "outputs": [
    {
     "data": {
      "text/plain": [
       "0.0     3762\n",
       "6.0     1845\n",
       "11.0     751\n",
       "9.0      486\n",
       "7.0      357\n",
       "3.0      307\n",
       "15.0     285\n",
       "8.0      257\n",
       "5.0      222\n",
       "14.0     208\n",
       "Name: edjefe, dtype: int64"
      ]
     },
     "execution_count": 83,
     "metadata": {},
     "output_type": "execute_result"
    },
    {
     "data": {
      "image/png": "[encoded data removed]",
      "text/plain": [
       "<Figure size 432x288 with 1 Axes>"
      ]
     },
     "metadata": {
      "needs_background": "light"
     },
     "output_type": "display_data"
    }
   ],
   "source": [
    "data = train.edjefe\n",
    "plt.hist(data[data.isin(['no', 'yes'])== False ].astype('float'), bins = 50)\n",
    "plt.show\n",
    "\n",
    "data.value_counts().head(10)"
   ]
  },
  {
   "cell_type": "code",
   "execution_count": 84,
   "id": "896c7fa8",
   "metadata": {},
   "outputs": [
    {
     "data": {
      "text/plain": [
       "no    6230\n",
       "6      947\n",
       "11     399\n",
       "9      237\n",
       "8      217\n",
       "15     188\n",
       "7      179\n",
       "5      176\n",
       "3      152\n",
       "4      136\n",
       "Name: edjefa, dtype: int64"
      ]
     },
     "execution_count": 84,
     "metadata": {},
     "output_type": "execute_result"
    },
    {
     "data": {
      "image/png": "[encoded data removed]",
      "text/plain": [
       "<Figure size 432x288 with 1 Axes>"
      ]
     },
     "metadata": {
      "needs_background": "light"
     },
     "output_type": "display_data"
    }
   ],
   "source": [
    "# Preprocessing for edjefa[female years of education] columns:\n",
    "data = train.edjefa\n",
    "plt.hist(data[data.isin(['no', 'yes'])== False ].astype('float'), bins = 50)\n",
    "plt.show\n",
    "\n",
    "data.value_counts().head(10)"
   ]
  },
  {
   "cell_type": "code",
   "execution_count": 85,
   "id": "1e322700",
   "metadata": {},
   "outputs": [],
   "source": [
    "# Decision: no=0, yes=median, then convert all to float.\n",
    "med = np.median(train.edjefa[train.edjefa.isin(['no','yes'])==False].astype('float')) #find median values by excluding yes,no.\n",
    "train.edjefa = train.edjefa.replace('no',0).replace('yes',med).astype('float')\n",
    "test.edjefa = test.edjefa.replace('no',0).replace('yes',med).astype('float')"
   ]
  },
  {
   "cell_type": "code",
   "execution_count": 86,
   "id": "8844ef12",
   "metadata": {},
   "outputs": [
    {
     "data": {
      "text/plain": [
       "0.0     6230\n",
       "6.0      947\n",
       "11.0     399\n",
       "7.0      248\n",
       "9.0      237\n",
       "8.0      217\n",
       "15.0     188\n",
       "5.0      176\n",
       "3.0      152\n",
       "4.0      136\n",
       "Name: edjefa, dtype: int64"
      ]
     },
     "execution_count": 86,
     "metadata": {},
     "output_type": "execute_result"
    },
    {
     "data": {
      "image/png": "[encoded data removed]",
      "text/plain": [
       "<Figure size 432x288 with 1 Axes>"
      ]
     },
     "metadata": {
      "needs_background": "light"
     },
     "output_type": "display_data"
    }
   ],
   "source": [
    "data = train.edjefa\n",
    "plt.hist(data[data.isin(['no', 'yes'])== False ].astype('float'), bins = 50)\n",
    "plt.show\n",
    "\n",
    "data.value_counts().head(10)"
   ]
  },
  {
   "cell_type": "code",
   "execution_count": 87,
   "id": "abb11488",
   "metadata": {},
   "outputs": [
    {
     "data": {
      "text/plain": [
       "v2a1               6860\n",
       "hacdor                0\n",
       "rooms                 0\n",
       "hacapo                0\n",
       "v14a                  0\n",
       "                   ... \n",
       "SQBovercrowding       0\n",
       "SQBdependency         0\n",
       "SQBmeaned             5\n",
       "agesq                 0\n",
       "Target                0\n",
       "Length: 142, dtype: int64"
      ]
     },
     "execution_count": 87,
     "metadata": {},
     "output_type": "execute_result"
    }
   ],
   "source": [
    "# Checking the missing values\n",
    "train.isnull().sum()"
   ]
  },
  {
   "cell_type": "code",
   "execution_count": 88,
   "id": "233f84e5",
   "metadata": {},
   "outputs": [
    {
     "data": {
      "text/plain": [
       "v2a1               17403\n",
       "hacdor                 0\n",
       "rooms                  0\n",
       "hacapo                 0\n",
       "v14a                   0\n",
       "                   ...  \n",
       "SQBhogar_nin           0\n",
       "SQBovercrowding        0\n",
       "SQBdependency          0\n",
       "SQBmeaned             31\n",
       "agesq                  0\n",
       "Length: 141, dtype: int64"
      ]
     },
     "execution_count": 88,
     "metadata": {},
     "output_type": "execute_result"
    }
   ],
   "source": [
    "test.isnull().sum()"
   ]
  },
  {
   "cell_type": "code",
   "execution_count": 89,
   "id": "18fef99e",
   "metadata": {},
   "outputs": [
    {
     "name": "stdout",
     "output_type": "stream",
     "text": [
      "In train_v2a1 columns has null values:  71.7798472323951\n",
      "In train_v18q1 columns has null values:  76.82327090091033\n",
      "In train_rez_esc columns has null values:  82.95490216595167\n"
     ]
    }
   ],
   "source": [
    "#check the above columns null percentage in train data so we can decide to drop or computation:\n",
    "print('In train_v2a1 columns has null values: ', (train['v2a1'].isnull().sum()/train.shape[0] *100))\n",
    "print('In train_v18q1 columns has null values: ', (train['v18q1'].isnull().sum()/train.shape[0] *100))\n",
    "print('In train_rez_esc columns has null values: ', (train['rez_esc'].isnull().sum()/train.shape[0] *100))"
   ]
  },
  {
   "cell_type": "code",
   "execution_count": 90,
   "id": "6a12450e",
   "metadata": {},
   "outputs": [
    {
     "name": "stdout",
     "output_type": "stream",
     "text": [
      "In test_v2a1 columns has null values:  72.95020120724345\n",
      "In test_v18q1 columns has null values:  75.98088531187123\n",
      "In test_rez_esc columns has null values:  82.3817907444668\n"
     ]
    }
   ],
   "source": [
    "#Check for test data.\n",
    "print('In test_v2a1 columns has null values: ', (test['v2a1'].isnull().sum()/test.shape[0] *100))\n",
    "print('In test_v18q1 columns has null values: ', (test['v18q1'].isnull().sum()/test.shape[0] *100))\n",
    "print('In test_rez_esc columns has null values: ', (test['rez_esc'].isnull().sum()/test.shape[0] *100))"
   ]
  },
  {
   "cell_type": "code",
   "execution_count": 91,
   "id": "2f4e577a",
   "metadata": {},
   "outputs": [],
   "source": [
    "#Better we should drop these columns:\n",
    "train.drop(columns = ['v2a1', 'v18q1', 'rez_esc'], inplace=True)\n",
    "test.drop(columns = ['v2a1', 'v18q1', 'rez_esc'], inplace=True)"
   ]
  },
  {
   "cell_type": "code",
   "execution_count": 92,
   "id": "1435f0a4",
   "metadata": {},
   "outputs": [
    {
     "data": {
      "text/plain": [
       "((9557, 139), (23856, 138))"
      ]
     },
     "execution_count": 92,
     "metadata": {},
     "output_type": "execute_result"
    }
   ],
   "source": [
    "train.shape, test.shape"
   ]
  },
  {
   "cell_type": "code",
   "execution_count": 93,
   "id": "c97b3992",
   "metadata": {},
   "outputs": [
    {
     "data": {
      "text/plain": [
       "meaneduc     5\n",
       "SQBmeaned    5\n",
       "dtype: int64"
      ]
     },
     "execution_count": 93,
     "metadata": {},
     "output_type": "execute_result"
    }
   ],
   "source": [
    "null_columns = train.columns[train.isnull().any()]\n",
    "train[null_columns].isnull().sum()"
   ]
  },
  {
   "cell_type": "code",
   "execution_count": 94,
   "id": "245d9f34",
   "metadata": {},
   "outputs": [
    {
     "data": {
      "text/plain": [
       "meaneduc     31\n",
       "SQBmeaned    31\n",
       "dtype: int64"
      ]
     },
     "execution_count": 94,
     "metadata": {},
     "output_type": "execute_result"
    }
   ],
   "source": [
    "#Check for test data as well\n",
    "null_columns = test.columns[test.isnull().any()]\n",
    "test[null_columns].isnull().sum()"
   ]
  },
  {
   "cell_type": "code",
   "execution_count": 95,
   "id": "4206138e",
   "metadata": {},
   "outputs": [],
   "source": [
    "#We would go for computation:\n",
    "# Impute meaneduc and SQBmeaned\n",
    "from sklearn.impute import SimpleImputer\n",
    "SimpleImputer = SimpleImputer(missing_values = np.nan, strategy = 'median')\n",
    "SimpleImputer.fit(train[['meaneduc','SQBmeaned']])\n",
    "train[['meaneduc','SQBmeaned']] = SimpleImputer.transform(train[['meaneduc','SQBmeaned']])\n",
    "test[['meaneduc','SQBmeaned']] = SimpleImputer.transform(test[['meaneduc','SQBmeaned']])"
   ]
  },
  {
   "cell_type": "code",
   "execution_count": 96,
   "id": "dd824edd",
   "metadata": {},
   "outputs": [
    {
     "name": "stdout",
     "output_type": "stream",
     "text": [
      "null values in train 0\n",
      "null values in test 0\n"
     ]
    }
   ],
   "source": [
    "#Check is there any null values in train and test:\n",
    "print('null values in train', train.isnull().any().sum())\n",
    "print('null values in test', test.isnull().any().sum())"
   ]
  },
  {
   "cell_type": "code",
   "execution_count": null,
   "id": "3e79b379",
   "metadata": {},
   "outputs": [],
   "source": [
    "#Now data is clean and we ready to go further."
   ]
  },
  {
   "cell_type": "code",
   "execution_count": null,
   "id": "06d8960a",
   "metadata": {},
   "outputs": [],
   "source": []
  },
  {
   "cell_type": "code",
   "execution_count": null,
   "id": "b91e6adf",
   "metadata": {},
   "outputs": [],
   "source": []
  },
  {
   "cell_type": "code",
   "execution_count": null,
   "id": "27c4696a",
   "metadata": {},
   "outputs": [],
   "source": []
  },
  {
   "cell_type": "code",
   "execution_count": null,
   "id": "c28d9806",
   "metadata": {},
   "outputs": [],
   "source": []
  },
  {
   "cell_type": "code",
   "execution_count": null,
   "id": "9e84499e",
   "metadata": {},
   "outputs": [],
   "source": []
  },
  {
   "cell_type": "code",
   "execution_count": null,
   "id": "25467d0a",
   "metadata": {},
   "outputs": [],
   "source": []
  },
  {
   "cell_type": "code",
   "execution_count": null,
   "id": "d9ddd335",
   "metadata": {},
   "outputs": [],
   "source": []
  },
  {
   "cell_type": "code",
   "execution_count": null,
   "id": "ede9ca77",
   "metadata": {},
   "outputs": [],
   "source": []
  }
 ],
 "metadata": {
  "kernelspec": {
   "display_name": "Python 3 (ipykernel)",
   "language": "python",
   "name": "python3"
  },
  "language_info": {
   "codemirror_mode": {
    "name": "ipython",
    "version": 3
   },
   "file_extension": ".py",
   "mimetype": "text/x-python",
   "name": "python",
   "nbconvert_exporter": "python",
   "pygments_lexer": "ipython3",
   "version": "3.8.8"
  }
 },
 "nbformat": 4,
 "nbformat_minor": 5
}
